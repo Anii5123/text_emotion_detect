{
 "cells": [
  {
   "cell_type": "markdown",
   "id": "a467fbcd",
   "metadata": {},
   "source": [
    "🚀 Step 2: Incremental Training Loop (Run Anytime)"
   ]
  },
  {
   "cell_type": "code",
   "execution_count": null,
   "id": "7220158d",
   "metadata": {},
   "outputs": [],
   "source": [
    "from transformers import BertTokenizer, BertForSequenceClassification, Trainer, TrainingArguments, DataCollatorWithPadding\n",
    "from datasets import load_from_disk\n",
    "import torch\n",
    "import os\n",
    "import time"
   ]
  },
  {
   "cell_type": "code",
   "execution_count": null,
   "metadata": {},
   "outputs": [],
   "source": [
    "# ✅ **1. Load Preprocessed Dataset**\n",
    "print(\"📥 Loading preprocessed dataset...\")\n",
    "dataset = load_from_disk(\"./processed_data\")\n"
   ]
  },
  {
   "cell_type": "code",
   "execution_count": null,
   "metadata": {},
   "outputs": [],
   "source": [
    "# ✅ **2. Tokenizer Initialization**\n",
    "print(\"📝 Initializing tokenizer...\")\n",
    "tokenizer = BertTokenizer.from_pretrained(\"bert-base-uncased\")\n",
    "data_collator = DataCollatorWithPadding(tokenizer=tokenizer)\n"
   ]
  },
  {
   "cell_type": "code",
   "execution_count": null,
   "metadata": {},
   "outputs": [],
   "source": [
    "# ✅ **3. Chunk the Dataset** — Adjust the size as needed\n",
    "CHUNK_SIZE = 10000\n",
    "num_chunks = (len(dataset) + CHUNK_SIZE - 1) // CHUNK_SIZE  # Optimized calculation\n",
    "print(f\"🔀 Splitting dataset into {num_chunks} chunks of size {CHUNK_SIZE}.\")\n"
   ]
  },
  {
   "cell_type": "code",
   "execution_count": null,
   "id": "89522209",
   "metadata": {},
   "outputs": [],
   "source": [
    "# ✅ **4. Initialize or Load Model**\n",
    "checkpoint_path = \"./goemotions_ekman_model\"\n",
    "\n",
    "# Check if there's a checkpoint to resume from\n",
    "if os.path.exists(checkpoint_path):\n",
    "    print(\"🔄 Loading model from checkpoint...\")\n",
    "    model = BertForSequenceClassification.from_pretrained(checkpoint_path)\n",
    "else:\n",
    "    print(\"🚀 Initializing a new model...\")\n",
    "    model = BertForSequenceClassification.from_pretrained(\"bert-base-uncased\", num_labels=7)\n"
   ]
  },
  {
   "cell_type": "code",
   "execution_count": null,
   "metadata": {},
   "outputs": [],
   "source": [
    "# ✅ **5. Training Arguments (Shared across all chunks)**\n",
    "training_args = TrainingArguments(\n",
    "    output_dir='./results',\n",
    "    evaluation_strategy=\"no\",   # Disable evaluation during training\n",
    "    save_strategy=\"steps\",  # Save model after a fixed number of steps\n",
    "    save_steps=500,  # Save every 500 steps (adjust as needed)\n",
    "    learning_rate=2e-5,\n",
    "    per_device_train_batch_size=8,\n",
    "    num_train_epochs=1,\n",
    "    weight_decay=0.01,\n",
    "    logging_dir='./logs',\n",
    "    logging_steps=50,\n",
    "    save_total_limit=2,\n",
    "    logging_first_step=True,  # Log the first step\n",
    "    load_best_model_at_end=False,  # Disable loading best model, since we're not doing eval\n",
    ")"
   ]
  },
  {
   "cell_type": "code",
   "execution_count": null,
   "metadata": {},
   "outputs": [],
   "source": [
    "# ✅ **6. Trainer Initialization**\n",
    "trainer = Trainer(\n",
    "    model=model,\n",
    "    args=training_args,\n",
    "    tokenizer=tokenizer,\n",
    "    data_collator=data_collator,\n",
    ")"
   ]
  },
  {
   "cell_type": "code",
   "execution_count": null,
   "metadata": {},
   "outputs": [],
   "source": [
    "# ✅ **7. Training Loop for Each Chunk**\n",
    "last_checkpoint = 0  # To keep track of the last chunk trained\n",
    "checkpoint_file = os.path.join(checkpoint_path, \"last_checkpoint.txt\")\n",
    "\n",
    "# Try loading the last checkpoint index from a file, if available\n",
    "if os.path.exists(checkpoint_file):\n",
    "    with open(checkpoint_file, \"r\") as f:\n",
    "        last_checkpoint = int(f.read())\n",
    "        print(f\"🔄 Resuming from checkpoint {last_checkpoint + 1}\")\n"
   ]
  },
  {
   "cell_type": "code",
   "execution_count": null,
   "id": "f738426c",
   "metadata": {},
   "outputs": [],
   "source": [
    "# ✅ **8. Training Loop with Time Estimation**\n",
    "for i in range(last_checkpoint, num_chunks):\n",
    "    print(f\"\\n📝 Training on chunk {i + 1} of {num_chunks}...\")\n",
    "    start_idx = i * CHUNK_SIZE\n",
    "    end_idx = min((i + 1) * CHUNK_SIZE, len(dataset))\n",
    "    chunk_data = dataset.select(range(start_idx, end_idx))\n",
    "    \n",
    "    # 🔄 **Track time per chunk and calculate remaining time**\n",
    "    start_time = time.time()  # Start the timer for this chunk\n",
    "    trainer.train_dataset = chunk_data\n",
    "    trainer.train()\n",
    "    end_time = time.time()  # End the timer for this chunk\n",
    "\n",
    "    time_taken_for_chunk = end_time - start_time\n",
    "    print(f\"⏳ Time taken for chunk {i + 1}: {time_taken_for_chunk:.2f} seconds\")\n",
    "\n",
    "    # Estimate total time for all chunks\n",
    "    average_time_per_chunk = time_taken_for_chunk\n",
    "    remaining_chunks = num_chunks - (i + 1)\n",
    "    estimated_remaining_time = average_time_per_chunk * remaining_chunks\n",
    "    print(f\"⏳ Estimated remaining time: {estimated_remaining_time / 60:.2f} minutes\")\n",
    "\n",
    "    # 🔒 **Save Checkpoint after each chunk**\n",
    "    print(f\"💾 Saving checkpoint for chunk {i + 1}...\")\n",
    "    trainer.save_model(checkpoint_path)\n",
    "    \n",
    "    # Save the current checkpoint index to resume from next time\n",
    "    with open(checkpoint_file, \"w\") as f:\n",
    "        f.write(str(i + 1))  # Save the current chunk index\n",
    "        \n",
    "\n",
    "print(\"\\n✅ Training complete for all chunks!\")"
   ]
  },
  {
   "cell_type": "code",
   "execution_count": null,
   "id": "791551b6",
   "metadata": {},
   "outputs": [],
   "source": []
  },
  {
   "cell_type": "code",
   "execution_count": null,
   "metadata": {},
   "outputs": [],
   "source": []
  },
  {
   "cell_type": "code",
   "execution_count": null,
   "metadata": {},
   "outputs": [],
   "source": []
  },
  {
   "cell_type": "code",
   "execution_count": null,
   "id": "e7d6a948",
   "metadata": {},
   "outputs": [],
   "source": []
  }
 ],
 "metadata": {
  "kernelspec": {
   "display_name": "emotion-env",
   "language": "python",
   "name": "python3"
  },
  "language_info": {
   "codemirror_mode": {
    "name": "ipython",
    "version": 3
   },
   "file_extension": ".py",
   "mimetype": "text/x-python",
   "name": "python",
   "nbconvert_exporter": "python",
   "pygments_lexer": "ipython3",
   "version": "3.10.16"
  }
 },
 "nbformat": 4,
 "nbformat_minor": 5
}

{
 "cells": [
  {
   "cell_type": "markdown",
   "id": "0e825aa4",
   "metadata": {},
   "source": [
    "🚀 Step 1: Preprocess and Save the Data (Run Only Once)"
   ]
  },
  {
   "cell_type": "code",
   "execution_count": 1,
   "id": "911a1343",
   "metadata": {},
   "outputs": [
    {
     "name": "stderr",
     "output_type": "stream",
     "text": [
      "c:\\Users\\Anii\\anaconda3\\envs\\emotion-env\\lib\\site-packages\\tqdm\\auto.py:21: TqdmWarning: IProgress not found. Please update jupyter and ipywidgets. See https://ipywidgets.readthedocs.io/en/stable/user_install.html\n",
      "  from .autonotebook import tqdm as notebook_tqdm\n"
     ]
    }
   ],
   "source": [
    "from datasets import load_dataset\n",
    "from transformers import BertTokenizer\n",
    "import torch\n",
    "import os"
   ]
  },
  {
   "cell_type": "code",
   "execution_count": 2,
   "id": "14342eed",
   "metadata": {},
   "outputs": [
    {
     "name": "stdout",
     "output_type": "stream",
     "text": [
      "📥 Loading dataset...\n"
     ]
    }
   ],
   "source": [
    "# ✅ **1. Load Dataset**\n",
    "print(\"📥 Loading dataset...\")\n",
    "dataset = load_dataset(\"go_emotions\", split=\"train\")"
   ]
  },
  {
   "cell_type": "code",
   "execution_count": 3,
   "id": "f88ff0d1",
   "metadata": {},
   "outputs": [
    {
     "name": "stdout",
     "output_type": "stream",
     "text": [
      "📝 Label Names Loaded: ['admiration', 'amusement', 'anger', 'annoyance', 'approval', 'caring', 'confusion', 'curiosity', 'desire', 'disappointment', 'disapproval', 'disgust', 'embarrassment', 'excitement', 'fear', 'gratitude', 'grief', 'joy', 'love', 'nervousness', 'optimism', 'pride', 'realization', 'relief', 'remorse', 'sadness', 'surprise', 'neutral']\n"
     ]
    }
   ],
   "source": [
    "# ✅ **1.1 Load Label Names**\n",
    "label_names = dataset.info.features[\"labels\"].feature.names\n",
    "print(\"📝 Label Names Loaded:\", label_names)\n"
   ]
  },
  {
   "cell_type": "code",
   "execution_count": 4,
   "id": "4eee899c",
   "metadata": {},
   "outputs": [],
   "source": [
    "# ✅ **2. Define Emotion Mapping**\n",
    "emotion_mapping = {\n",
    "    \"admiration\": \"joy\",\n",
    "    \"amusement\": \"joy\",\n",
    "    \"anger\": \"anger\",\n",
    "    \"annoyance\": \"anger\",\n",
    "    \"approval\": \"joy\",\n",
    "    \"caring\": \"joy\",\n",
    "    \"confusion\": \"surprise\",\n",
    "    \"curiosity\": \"surprise\",\n",
    "    \"desire\": \"joy\",\n",
    "    \"disappointment\": \"sadness\",\n",
    "    \"disapproval\": \"disgust\",\n",
    "    \"disgust\": \"disgust\",\n",
    "    \"embarrassment\": \"fear\",\n",
    "    \"excitement\": \"joy\",\n",
    "    \"fear\": \"fear\",\n",
    "    \"gratitude\": \"joy\",\n",
    "    \"grief\": \"sadness\",\n",
    "    \"joy\": \"joy\",\n",
    "    \"love\": \"joy\",\n",
    "    \"nervousness\": \"fear\",\n",
    "    \"optimism\": \"joy\",\n",
    "    \"pride\": \"joy\",\n",
    "    \"realization\": \"surprise\",\n",
    "    \"relief\": \"joy\",\n",
    "    \"remorse\": \"sadness\",\n",
    "    \"sadness\": \"sadness\",\n",
    "    \"surprise\": \"surprise\",\n",
    "    \"neutral\": \"neutral\"\n",
    "}\n",
    "\n",
    "# Mapping the emotion to numeric labels (Ekman categories)\n",
    "emotion_to_id = {\n",
    "    \"anger\": 0,\n",
    "    \"joy\": 3,\n",
    "    \"surprise\": 5,\n",
    "    \"sadness\": 4,\n",
    "    \"disgust\": 1,\n",
    "    \"fear\": 2,\n",
    "    \"neutral\": 6\n",
    "}"
   ]
  },
  {
   "cell_type": "code",
   "execution_count": 5,
   "metadata": {},
   "outputs": [
    {
     "name": "stdout",
     "output_type": "stream",
     "text": [
      "🔄 Mapping labels...\n"
     ]
    }
   ],
   "source": [
    "# ✅ **3. Map Labels**\n",
    "def map_labels(example):\n",
    "    labels = example['labels']\n",
    "    # Get string labels from numeric IDs\n",
    "    string_labels = [label_names[label] for label in labels]\n",
    "    # Map string labels to Ekman categories\n",
    "    mapped_labels = [emotion_to_id[emotion_mapping[label]] for label in string_labels]\n",
    "    # Ensure only a single integer label (choose the first if multiple, fallback to 'neutral')\n",
    "    example['labels'] = mapped_labels[0] if mapped_labels else emotion_to_id[\"neutral\"]\n",
    "    return example\n",
    "\n",
    "print(\"🔄 Mapping labels...\")\n",
    "dataset = dataset.map(map_labels)"
   ]
  },
  {
   "cell_type": "code",
   "execution_count": 6,
   "metadata": {},
   "outputs": [
    {
     "name": "stdout",
     "output_type": "stream",
     "text": [
      "📝 Tokenizing and formatting dataset...\n"
     ]
    },
    {
     "name": "stderr",
     "output_type": "stream",
     "text": [
      "c:\\Users\\Anii\\anaconda3\\envs\\emotion-env\\lib\\site-packages\\huggingface_hub\\file_download.py:943: FutureWarning: `resume_download` is deprecated and will be removed in version 1.0.0. Downloads always resume when possible. If you want to force a new download, use `force_download=True`.\n",
      "  warnings.warn(\n"
     ]
    }
   ],
   "source": [
    "# ✅ **4. Tokenize and Format Dataset**\n",
    "print(\"📝 Tokenizing and formatting dataset...\")\n",
    "tokenizer = BertTokenizer.from_pretrained(\"bert-base-uncased\")\n",
    "\n",
    "def tokenize(batch):\n",
    "    return tokenizer(batch['text'], truncation=True, padding=True)\n",
    "\n",
    "dataset = dataset.map(tokenize, batched=True)\n",
    "dataset.set_format(type=\"torch\", columns=[\"input_ids\", \"attention_mask\", \"labels\"])\n"
   ]
  },
  {
   "cell_type": "code",
   "execution_count": 7,
   "id": "6481b6ba",
   "metadata": {},
   "outputs": [
    {
     "name": "stderr",
     "output_type": "stream",
     "text": [
      "Saving the dataset (0/1 shards):   0%|          | 0/43410 [00:00<?, ? examples/s]"
     ]
    },
    {
     "name": "stderr",
     "output_type": "stream",
     "text": [
      "Saving the dataset (1/1 shards): 100%|██████████| 43410/43410 [00:00<00:00, 270050.01 examples/s]"
     ]
    },
    {
     "name": "stdout",
     "output_type": "stream",
     "text": [
      "\n",
      "✅ Dataset processed and saved to './processed_data'\n"
     ]
    },
    {
     "name": "stderr",
     "output_type": "stream",
     "text": [
      "\n"
     ]
    }
   ],
   "source": [
    "# ✅ **5. Save the Processed Dataset**\n",
    "PROCESSED_DATA_DIR = \"./processed_data\"\n",
    "\n",
    "if not os.path.exists(PROCESSED_DATA_DIR):\n",
    "    os.makedirs(PROCESSED_DATA_DIR)\n",
    "\n",
    "dataset.save_to_disk(PROCESSED_DATA_DIR)\n",
    "print(f\"\\n✅ Dataset processed and saved to '{PROCESSED_DATA_DIR}'\")"
   ]
  },
  {
   "cell_type": "code",
   "execution_count": null,
   "id": "5d2faf50",
   "metadata": {},
   "outputs": [],
   "source": []
  }
 ],
 "metadata": {
  "kernelspec": {
   "display_name": "emotion-env",
   "language": "python",
   "name": "python3"
  },
  "language_info": {
   "codemirror_mode": {
    "name": "ipython",
    "version": 3
   },
   "file_extension": ".py",
   "mimetype": "text/x-python",
   "name": "python",
   "nbconvert_exporter": "python",
   "pygments_lexer": "ipython3",
   "version": "3.10.16"
  }
 },
 "nbformat": 4,
 "nbformat_minor": 5
}
